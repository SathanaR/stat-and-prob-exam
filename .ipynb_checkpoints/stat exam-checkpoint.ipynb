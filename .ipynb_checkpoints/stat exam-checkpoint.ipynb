{
 "cells": [
  {
   "cell_type": "markdown",
   "id": "f250536b",
   "metadata": {},
   "source": [
    "<H6>\n",
    "    QUESTION 1\n",
    "    <H6>"
   ]
  },
  {
   "cell_type": "raw",
   "id": "048b0ccc",
   "metadata": {},
   "source": [
    "p(a)=probability of diamond card in first draw\n",
    "p(b)=probability of heart card in second draw\n",
    "p(c)=probability of spade card in third draw"
   ]
  },
  {
   "cell_type": "code",
   "execution_count": 3,
   "id": "322c7c09",
   "metadata": {},
   "outputs": [
    {
     "name": "stdout",
     "output_type": "stream",
     "text": [
      "The total probability is  : 0.01656862745098039\n"
     ]
    }
   ],
   "source": [
    "pa=13/52\n",
    "pb=13/51\n",
    "pc=13/50\n",
    "p=pa*pb*pc\n",
    "print(\"The total probability is  :\",p)"
   ]
  },
  {
   "cell_type": "markdown",
   "id": "2f7c94f9",
   "metadata": {},
   "source": [
    "<h6>\n",
    "    QUESTION 2\n",
    "    <H6>"
   ]
  },
  {
   "cell_type": "raw",
   "id": "fc53b879",
   "metadata": {},
   "source": [
    "P(a)= probability of linking action movies=42/100\n",
    "P(c)=probability of liking comedy movies=54/100\n",
    "P(d)=probabiltity of liking drama movies=36/100\n",
    "P(h)=probability of linking horror movies=12/100\n",
    "P(A)=probability of either action or drama\n",
    "P(B)=probability of either comedy or horror"
   ]
  },
  {
   "cell_type": "code",
   "execution_count": 6,
   "id": "ca6eb4bd",
   "metadata": {},
   "outputs": [
    {
     "name": "stdout",
     "output_type": "stream",
     "text": [
      "probability of either action or drama     : 0.78\n",
      "probability of either comedy or horror     : 0.66\n"
     ]
    }
   ],
   "source": [
    "Pa= 42/100\n",
    "Pc=54/100\n",
    "Pd=36/100\n",
    "Ph=12/100\n",
    "PA=Pa+Pd\n",
    "PB=Pc+Ph\n",
    "print(\"probability of either action or drama     :\",PA)\n",
    "print(\"probability of either comedy or horror     :\",PB)"
   ]
  },
  {
   "cell_type": "markdown",
   "id": "36515125",
   "metadata": {},
   "source": [
    "<h6>\n",
    "    QUESTION 3\n",
    "    <h6>"
   ]
  },
  {
   "cell_type": "raw",
   "id": "4be892ae",
   "metadata": {},
   "source": [
    "BAG A:\n",
    "red=3\n",
    "black=5\n",
    "BAG B:\n",
    "white=4\n",
    "black=7\n",
    "p(B/A)=probabilty of black ball from A=5/8\n",
    "p(B/B)=probability of black ball from B=7/11"
   ]
  },
  {
   "cell_type": "code",
   "execution_count": 7,
   "id": "50d7bbf4",
   "metadata": {},
   "outputs": [
    {
     "name": "stdout",
     "output_type": "stream",
     "text": [
      "The probability of black ball from bag 2 is    : 0.5045045045045046\n"
     ]
    }
   ],
   "source": [
    "pa=1/2\n",
    "pb=1/2\n",
    "pba=5/8\n",
    "pbb=7/11\n",
    "pans=(pb*pbb)/((pa*pba)+(pb*pbb))\n",
    "print(\"The probability of black ball from bag 2 is    :\",pans)"
   ]
  },
  {
   "cell_type": "markdown",
   "id": "c2f56289",
   "metadata": {},
   "source": [
    "<h6>\n",
    "    QUESTION 4\n",
    "    <h6>"
   ]
  },
  {
   "cell_type": "raw",
   "id": "6a453b50",
   "metadata": {},
   "source": [
    "450 in 60 min\n",
    "pten=10 application  received in 1 min\n",
    "pseventeen=atleast 17 in 2 min"
   ]
  },
  {
   "cell_type": "code",
   "execution_count": 11,
   "id": "1148d71b",
   "metadata": {},
   "outputs": [
    {
     "name": "stdout",
     "output_type": "stream",
     "text": [
      "The probability of 10 application  received in 1 min is: 0.08583037040867346\n",
      "The probability of atlest 17 application  received in 2 min is: 0.0011688649831234608\n"
     ]
    }
   ],
   "source": [
    "lamda=450/60\n",
    "from scipy.stats import poisson\n",
    "ans=poisson.pmf(k=10, mu=lamda)\n",
    "print(\"The probability of 10 application  received in 1 min is:\",ans)\n",
    "ans1=poisson.pmf(k=17, mu=lamda)\n",
    "print(\"The probability of atlest 17 application  received in 2 min is:\",ans1)"
   ]
  },
  {
   "cell_type": "markdown",
   "id": "6b3d10d9",
   "metadata": {},
   "source": [
    "<h6>\n",
    "Question 6\n",
    "<h6>"
   ]
  },
  {
   "cell_type": "raw",
   "id": "e0616dee",
   "metadata": {},
   "source": [
    "z score is 0.675 for 75 percentile\n",
    "mean=350870\n",
    "std=12405\n",
    "x=value at 75th percentile"
   ]
  },
  {
   "cell_type": "code",
   "execution_count": 13,
   "id": "18804851",
   "metadata": {},
   "outputs": [
    {
     "name": "stdout",
     "output_type": "stream",
     "text": [
      "The value at 75th percentile is : 359243.375\n"
     ]
    }
   ],
   "source": [
    "mean=350870\n",
    "std=12405\n",
    "z=0.675\n",
    "x=(z*std)+mean\n",
    "print(\"The value at 75th percentile is :\",x)"
   ]
  },
  {
   "cell_type": "markdown",
   "id": "21d068c5",
   "metadata": {},
   "source": [
    "<h6>\n",
    "QUESTION 7\n",
    "<h6>"
   ]
  },
  {
   "cell_type": "code",
   "execution_count": 16,
   "id": "c4f4df71",
   "metadata": {},
   "outputs": [
    {
     "name": "stdout",
     "output_type": "stream",
     "text": [
      "F-STATISTIC is  : 0.9921235138705414\n"
     ]
    }
   ],
   "source": [
    "UC=[44,21,36,34,77,32,29,39,92,67,45,37]\n",
    "MV=[47,81,41,79,38,20,33,83,41,40,69,36]\n",
    "import numpy as np\n",
    "x = np.array(UC)\n",
    "y = np.array(MV)\n",
    "f = np.var(x, ddof=1)/np.var(y, ddof=1)\n",
    "print(\"F-STATISTIC is  :\",f)"
   ]
  },
  {
   "cell_type": "markdown",
   "id": "9f1a14ec",
   "metadata": {},
   "source": [
    "<h6>\n",
    "QUESTION 9\n",
    "<h6>"
   ]
  },
  {
   "cell_type": "code",
   "execution_count": 17,
   "id": "58481917",
   "metadata": {},
   "outputs": [],
   "source": [
    "from scipy.stats import poisson"
   ]
  },
  {
   "cell_type": "code",
   "execution_count": 18,
   "id": "cc44ef6b",
   "metadata": {},
   "outputs": [
    {
     "name": "stdout",
     "output_type": "stream",
     "text": [
      "the probability is : 0.040177141568228006\n"
     ]
    }
   ],
   "source": [
    "prob=poisson.pmf (k=80, mu=76)\n",
    "print (\"the probability is :\",prob)"
   ]
  },
  {
   "cell_type": "markdown",
   "id": "0aa632a3",
   "metadata": {},
   "source": [
    "<h6>\n",
    "QUESTION 8\n",
    "<h6>"
   ]
  },
  {
   "cell_type": "code",
   "execution_count": 19,
   "id": "6893992c",
   "metadata": {},
   "outputs": [
    {
     "name": "stdout",
     "output_type": "stream",
     "text": [
      "F-statistics: 1.6944444444444444\n"
     ]
    }
   ],
   "source": [
    "import numpy as np\n",
    "import scipy.stats\n",
    "# group 1, group 2, group 3\n",
    "mean = [44.5,42,46.5]\n",
    "std_dev = [5,5,8]\n",
    "# Sample size is same for all three groups so leave it...\n",
    "def f_test(x, y):\n",
    "    x = np.array(x)\n",
    "    y = np.array(y)\n",
    "    f = np.var(x, ddof=1)/np.var(y, ddof=1)\n",
    "    dfn = x.size-1 \n",
    "    dfd = y.size-1 \n",
    "    p = 1-scipy.stats.f.cdf(f, dfn, dfd) \n",
    "    return f, p\n",
    "\n",
    "f,p = f_test(mean, std_dev)\n",
    "\n",
    "print('F-statistics:',f)"
   ]
  },
  {
   "cell_type": "markdown",
   "id": "304051d8",
   "metadata": {},
   "source": [
    "<h6>\n",
    "Question 10\n",
    "<h6>"
   ]
  },
  {
   "cell_type": "code",
   "execution_count": null,
   "id": "1103e86c",
   "metadata": {},
   "outputs": [],
   "source": []
  }
 ],
 "metadata": {
  "kernelspec": {
   "display_name": "Python 3 (ipykernel)",
   "language": "python",
   "name": "python3"
  },
  "language_info": {
   "codemirror_mode": {
    "name": "ipython",
    "version": 3
   },
   "file_extension": ".py",
   "mimetype": "text/x-python",
   "name": "python",
   "nbconvert_exporter": "python",
   "pygments_lexer": "ipython3",
   "version": "3.9.7"
  }
 },
 "nbformat": 4,
 "nbformat_minor": 5
}
